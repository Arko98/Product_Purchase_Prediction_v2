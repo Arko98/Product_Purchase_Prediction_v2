{
 "cells": [
  {
   "cell_type": "code",
   "execution_count": 1,
   "metadata": {},
   "outputs": [],
   "source": [
    "import xgboost as xgb\n",
    "import Preprocess as util\n",
    "import numpy as np\n",
    "import matplotlib.pyplot as plt\n",
    "from sklearn.model_selection import train_test_split\n",
    "from sklearn.metrics import accuracy_score"
   ]
  },
  {
   "cell_type": "markdown",
   "metadata": {},
   "source": [
    "# Loading and Spliting Data into Train and Test"
   ]
  },
  {
   "cell_type": "code",
   "execution_count": 2,
   "metadata": {},
   "outputs": [
    {
     "name": "stdout",
     "output_type": "stream",
     "text": [
      "Input Data Shape = (41188, 19)\n",
      "Labels Shape = (41188, 1)\n",
      "Training input data shape = (32950, 19)\n",
      "Training labels shape = (32950, 1)\n",
      "Testing input data shape = (8238, 19)\n",
      "Testing labels shape = (8238, 1)\n"
     ]
    }
   ],
   "source": [
    "input_data, labels = util.load_data()\n",
    "print('Input Data Shape = {}'.format(input_data.shape))\n",
    "print('Labels Shape = {}'.format(labels.shape))\n",
    "\n",
    "train_x, test_x, train_y, test_y = train_test_split(input_data, labels, test_size = 0.20, random_state = 42)\n",
    "print('Training input data shape = {}'.format(train_x.shape))\n",
    "print('Training labels shape = {}'.format(train_y.shape))\n",
    "print('Testing input data shape = {}'.format(test_x.shape))\n",
    "print('Testing labels shape = {}'.format(test_y.shape))"
   ]
  },
  {
   "cell_type": "markdown",
   "metadata": {},
   "source": [
    "# Loading Data into XGBoost Interface"
   ]
  },
  {
   "cell_type": "code",
   "execution_count": 3,
   "metadata": {},
   "outputs": [],
   "source": [
    "dtrain = xgb.DMatrix(train_x, label = train_y)\n",
    "dtest = xgb.DMatrix(test_x, label = test_y)"
   ]
  },
  {
   "cell_type": "markdown",
   "metadata": {},
   "source": [
    "# Setting Parameters"
   ]
  },
  {
   "cell_type": "code",
   "execution_count": 4,
   "metadata": {},
   "outputs": [],
   "source": [
    "param = {'booster': 'gbtree', \n",
    "         'max_depth': 6, \n",
    "         'eta': 1, \n",
    "         'objective': 'binary:logistic', \n",
    "         'nthread': 4,\n",
    "         'eval_metric':'error',\n",
    "         'n_estimators': 200}"
   ]
  },
  {
   "cell_type": "markdown",
   "metadata": {},
   "source": [
    "# Training the model"
   ]
  },
  {
   "cell_type": "code",
   "execution_count": 5,
   "metadata": {
    "scrolled": false
   },
   "outputs": [
    {
     "name": "stdout",
     "output_type": "stream",
     "text": [
      "[0]\tvalidation_0-error:0.080486\n",
      "[1]\tvalidation_0-error:0.078998\n",
      "[2]\tvalidation_0-error:0.078634\n",
      "[3]\tvalidation_0-error:0.077633\n",
      "[4]\tvalidation_0-error:0.077451\n",
      "[5]\tvalidation_0-error:0.077147\n",
      "[6]\tvalidation_0-error:0.07742\n",
      "[7]\tvalidation_0-error:0.077117\n",
      "[8]\tvalidation_0-error:0.076965\n",
      "[9]\tvalidation_0-error:0.076844\n",
      "[10]\tvalidation_0-error:0.076449\n",
      "[11]\tvalidation_0-error:0.07654\n",
      "[12]\tvalidation_0-error:0.076328\n",
      "[13]\tvalidation_0-error:0.07569\n",
      "[14]\tvalidation_0-error:0.075387\n",
      "[15]\tvalidation_0-error:0.07481\n",
      "[16]\tvalidation_0-error:0.074598\n",
      "[17]\tvalidation_0-error:0.074294\n",
      "[18]\tvalidation_0-error:0.073961\n",
      "[19]\tvalidation_0-error:0.073839\n",
      "[20]\tvalidation_0-error:0.073778\n",
      "[21]\tvalidation_0-error:0.073627\n",
      "[22]\tvalidation_0-error:0.073687\n",
      "[23]\tvalidation_0-error:0.073536\n",
      "[24]\tvalidation_0-error:0.073202\n",
      "[25]\tvalidation_0-error:0.07305\n",
      "[26]\tvalidation_0-error:0.073232\n",
      "[27]\tvalidation_0-error:0.072898\n",
      "[28]\tvalidation_0-error:0.072959\n",
      "[29]\tvalidation_0-error:0.073202\n",
      "[30]\tvalidation_0-error:0.072959\n",
      "[31]\tvalidation_0-error:0.072747\n",
      "[32]\tvalidation_0-error:0.072291\n",
      "[33]\tvalidation_0-error:0.071958\n",
      "[34]\tvalidation_0-error:0.072231\n",
      "[35]\tvalidation_0-error:0.072018\n",
      "[36]\tvalidation_0-error:0.071836\n",
      "[37]\tvalidation_0-error:0.071351\n",
      "[38]\tvalidation_0-error:0.071381\n",
      "[39]\tvalidation_0-error:0.071259\n",
      "[40]\tvalidation_0-error:0.071047\n",
      "[41]\tvalidation_0-error:0.071259\n",
      "[42]\tvalidation_0-error:0.071108\n",
      "[43]\tvalidation_0-error:0.07132\n",
      "[44]\tvalidation_0-error:0.071138\n",
      "[45]\tvalidation_0-error:0.071138\n",
      "[46]\tvalidation_0-error:0.071259\n",
      "[47]\tvalidation_0-error:0.071199\n",
      "[48]\tvalidation_0-error:0.070895\n",
      "[49]\tvalidation_0-error:0.070956\n",
      "[50]\tvalidation_0-error:0.070683\n",
      "[51]\tvalidation_0-error:0.070865\n",
      "[52]\tvalidation_0-error:0.070622\n",
      "[53]\tvalidation_0-error:0.07041\n",
      "[54]\tvalidation_0-error:0.070319\n",
      "[55]\tvalidation_0-error:0.070167\n",
      "[56]\tvalidation_0-error:0.069954\n",
      "[57]\tvalidation_0-error:0.070015\n",
      "[58]\tvalidation_0-error:0.069742\n",
      "[59]\tvalidation_0-error:0.069833\n",
      "[60]\tvalidation_0-error:0.069803\n",
      "[61]\tvalidation_0-error:0.069621\n",
      "[62]\tvalidation_0-error:0.069742\n",
      "[63]\tvalidation_0-error:0.069651\n",
      "[64]\tvalidation_0-error:0.069742\n",
      "[65]\tvalidation_0-error:0.069651\n",
      "[66]\tvalidation_0-error:0.06953\n",
      "[67]\tvalidation_0-error:0.069135\n",
      "[68]\tvalidation_0-error:0.069014\n",
      "[69]\tvalidation_0-error:0.068923\n",
      "[70]\tvalidation_0-error:0.068649\n",
      "[71]\tvalidation_0-error:0.068558\n",
      "[72]\tvalidation_0-error:0.068589\n",
      "[73]\tvalidation_0-error:0.068376\n",
      "[74]\tvalidation_0-error:0.068528\n",
      "[75]\tvalidation_0-error:0.068103\n",
      "[76]\tvalidation_0-error:0.067982\n",
      "[77]\tvalidation_0-error:0.067739\n",
      "[78]\tvalidation_0-error:0.067709\n",
      "[79]\tvalidation_0-error:0.067162\n",
      "[80]\tvalidation_0-error:0.067132\n",
      "[81]\tvalidation_0-error:0.067132\n",
      "[82]\tvalidation_0-error:0.066586\n",
      "[83]\tvalidation_0-error:0.066373\n",
      "[84]\tvalidation_0-error:0.066039\n",
      "[85]\tvalidation_0-error:0.065736\n",
      "[86]\tvalidation_0-error:0.065463\n",
      "[87]\tvalidation_0-error:0.065281\n",
      "[88]\tvalidation_0-error:0.065099\n",
      "[89]\tvalidation_0-error:0.064552\n",
      "[90]\tvalidation_0-error:0.064461\n",
      "[91]\tvalidation_0-error:0.064249\n",
      "[92]\tvalidation_0-error:0.064036\n",
      "[93]\tvalidation_0-error:0.063824\n",
      "[94]\tvalidation_0-error:0.063885\n",
      "[95]\tvalidation_0-error:0.06349\n",
      "[96]\tvalidation_0-error:0.063247\n",
      "[97]\tvalidation_0-error:0.063338\n",
      "[98]\tvalidation_0-error:0.063278\n",
      "[99]\tvalidation_0-error:0.063096\n",
      "[100]\tvalidation_0-error:0.062822\n",
      "[101]\tvalidation_0-error:0.06264\n",
      "[102]\tvalidation_0-error:0.06258\n",
      "[103]\tvalidation_0-error:0.06261\n",
      "[104]\tvalidation_0-error:0.062549\n",
      "[105]\tvalidation_0-error:0.062367\n",
      "[106]\tvalidation_0-error:0.062276\n",
      "[107]\tvalidation_0-error:0.061548\n",
      "[108]\tvalidation_0-error:0.061487\n",
      "[109]\tvalidation_0-error:0.061366\n",
      "[110]\tvalidation_0-error:0.061366\n",
      "[111]\tvalidation_0-error:0.06091\n",
      "[112]\tvalidation_0-error:0.060668\n",
      "[113]\tvalidation_0-error:0.060303\n",
      "[114]\tvalidation_0-error:0.060061\n",
      "[115]\tvalidation_0-error:0.06003\n",
      "[116]\tvalidation_0-error:0.060091\n",
      "[117]\tvalidation_0-error:0.059939\n",
      "[118]\tvalidation_0-error:0.059788\n",
      "[119]\tvalidation_0-error:0.059757\n",
      "[120]\tvalidation_0-error:0.059636\n",
      "[121]\tvalidation_0-error:0.059605\n",
      "[122]\tvalidation_0-error:0.059363\n",
      "[123]\tvalidation_0-error:0.059059\n",
      "[124]\tvalidation_0-error:0.058604\n",
      "[125]\tvalidation_0-error:0.058695\n",
      "[126]\tvalidation_0-error:0.058574\n",
      "[127]\tvalidation_0-error:0.058452\n",
      "[128]\tvalidation_0-error:0.058088\n",
      "[129]\tvalidation_0-error:0.057815\n",
      "[130]\tvalidation_0-error:0.057693\n",
      "[131]\tvalidation_0-error:0.057178\n",
      "[132]\tvalidation_0-error:0.057299\n",
      "[133]\tvalidation_0-error:0.056874\n",
      "[134]\tvalidation_0-error:0.05648\n",
      "[135]\tvalidation_0-error:0.056297\n",
      "[136]\tvalidation_0-error:0.055964\n",
      "[137]\tvalidation_0-error:0.055994\n",
      "[138]\tvalidation_0-error:0.055873\n",
      "[139]\tvalidation_0-error:0.055812\n",
      "[140]\tvalidation_0-error:0.055964\n",
      "[141]\tvalidation_0-error:0.055599\n",
      "[142]\tvalidation_0-error:0.054932\n",
      "[143]\tvalidation_0-error:0.054932\n",
      "[144]\tvalidation_0-error:0.05481\n",
      "[145]\tvalidation_0-error:0.05478\n",
      "[146]\tvalidation_0-error:0.054689\n",
      "[147]\tvalidation_0-error:0.054628\n",
      "[148]\tvalidation_0-error:0.054507\n",
      "[149]\tvalidation_0-error:0.054234\n",
      "[150]\tvalidation_0-error:0.054143\n",
      "[151]\tvalidation_0-error:0.054112\n",
      "[152]\tvalidation_0-error:0.053991\n",
      "[153]\tvalidation_0-error:0.053354\n",
      "[154]\tvalidation_0-error:0.053384\n",
      "[155]\tvalidation_0-error:0.052929\n",
      "[156]\tvalidation_0-error:0.052838\n",
      "[157]\tvalidation_0-error:0.052595\n",
      "[158]\tvalidation_0-error:0.052322\n",
      "[159]\tvalidation_0-error:0.052322\n",
      "[160]\tvalidation_0-error:0.052261\n",
      "[161]\tvalidation_0-error:0.052231\n",
      "[162]\tvalidation_0-error:0.051958\n",
      "[163]\tvalidation_0-error:0.051897\n",
      "[164]\tvalidation_0-error:0.051836\n",
      "[165]\tvalidation_0-error:0.051351\n",
      "[166]\tvalidation_0-error:0.051229\n",
      "[167]\tvalidation_0-error:0.051199\n",
      "[168]\tvalidation_0-error:0.051017\n",
      "[169]\tvalidation_0-error:0.050895\n",
      "[170]\tvalidation_0-error:0.050895\n",
      "[171]\tvalidation_0-error:0.050804\n",
      "[172]\tvalidation_0-error:0.050653\n",
      "[173]\tvalidation_0-error:0.050713\n",
      "[174]\tvalidation_0-error:0.050653\n",
      "[175]\tvalidation_0-error:0.050501\n",
      "[176]\tvalidation_0-error:0.050106\n",
      "[177]\tvalidation_0-error:0.050046\n",
      "[178]\tvalidation_0-error:0.049833\n",
      "[179]\tvalidation_0-error:0.049803\n",
      "[180]\tvalidation_0-error:0.04959\n",
      "[181]\tvalidation_0-error:0.049347\n",
      "[182]\tvalidation_0-error:0.049105\n",
      "[183]\tvalidation_0-error:0.049439\n",
      "[184]\tvalidation_0-error:0.048923\n",
      "[185]\tvalidation_0-error:0.048771\n",
      "[186]\tvalidation_0-error:0.04871\n",
      "[187]\tvalidation_0-error:0.04871\n",
      "[188]\tvalidation_0-error:0.048619\n",
      "[189]\tvalidation_0-error:0.048558\n",
      "[190]\tvalidation_0-error:0.048194\n",
      "[191]\tvalidation_0-error:0.048194\n",
      "[192]\tvalidation_0-error:0.047891\n",
      "[193]\tvalidation_0-error:0.047951\n",
      "[194]\tvalidation_0-error:0.047557\n",
      "[195]\tvalidation_0-error:0.047557\n",
      "[196]\tvalidation_0-error:0.047496\n",
      "[197]\tvalidation_0-error:0.047496\n",
      "[198]\tvalidation_0-error:0.047375\n",
      "[199]\tvalidation_0-error:0.047253\n",
      "\n",
      "Training Accuracy: 95.2747%\n"
     ]
    }
   ],
   "source": [
    "model = xgb.XGBModel(**param)\n",
    "model_details = model.fit(train_x,train_y,eval_set=[(train_x,train_y)],verbose=True)\n",
    "evals_result = model.evals_result()\n",
    "print('\\nTraining Accuracy: {}%'.format((1 - float(evals_result['validation_0']['error'][199]))*100))"
   ]
  },
  {
   "cell_type": "markdown",
   "metadata": {},
   "source": [
    "# Testing Model on Unseen Data"
   ]
  },
  {
   "cell_type": "code",
   "execution_count": 6,
   "metadata": {},
   "outputs": [
    {
     "name": "stdout",
     "output_type": "stream",
     "text": [
      "Accuracy: 91.55134741442097%\n"
     ]
    }
   ],
   "source": [
    "y_pred = model.predict(test_x)\n",
    "predictions = [round(value) for value in y_pred]\n",
    "accuracy = accuracy_score(test_y, predictions)\n",
    "print('Accuracy: {}%'.format(accuracy * 100.0))"
   ]
  },
  {
   "cell_type": "markdown",
   "metadata": {},
   "source": [
    "# Analysing the Model"
   ]
  },
  {
   "cell_type": "code",
   "execution_count": 7,
   "metadata": {},
   "outputs": [
    {
     "data": {
      "text/plain": [
       "<matplotlib.axes._subplots.AxesSubplot at 0x7fc39ed45400>"
      ]
     },
     "execution_count": 7,
     "metadata": {},
     "output_type": "execute_result"
    },
    {
     "data": {
      "image/png": "[encoded data removed]",
      "text/plain": [
       "<matplotlib.figure.Figure at 0x7fc3df56a0f0>"
      ]
     },
     "metadata": {
      "needs_background": "light"
     },
     "output_type": "display_data"
    }
   ],
   "source": [
    "xgb.plot_importance(model)"
   ]
  }
 ],
 "metadata": {
  "kernelspec": {
   "display_name": "Python 3",
   "language": "python",
   "name": "python3"
  },
  "language_info": {
   "codemirror_mode": {
    "name": "ipython",
    "version": 3
   },
   "file_extension": ".py",
   "mimetype": "text/x-python",
   "name": "python",
   "nbconvert_exporter": "python",
   "pygments_lexer": "ipython3",
   "version": "3.6.8"
  }
 },
 "nbformat": 4,
 "nbformat_minor": 2
}
